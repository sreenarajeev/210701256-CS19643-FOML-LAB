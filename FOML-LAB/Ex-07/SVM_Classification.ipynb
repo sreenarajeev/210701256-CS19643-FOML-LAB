{
  "cells": [
    {
      "cell_type": "code",
      "execution_count": null,
      "id": "254988de-0b0c-4cbb-85f4-d9411ba30b74",
      "metadata": {
        "tags": [],
        "id": "254988de-0b0c-4cbb-85f4-d9411ba30b74"
      },
      "outputs": [],
      "source": [
        "import numpy as np # linear algebra\n",
        "import pandas as pd # data processing, CSV file I/O (e.g. pd.read_csv)\n",
        "import warnings\n",
        "warnings.filterwarnings('ignore')\n",
        "\n",
        "import numpy as np\n",
        "import pandas as pd\n",
        "import matplotlib.pyplot as plt\n",
        "import seaborn as sns\n",
        "from sklearn import preprocessing\n",
        "from sklearn.preprocessing import StandardScaler\n",
        "from sklearn.model_selection import train_test_split\n",
        "\n",
        "from sklearn import svm\n",
        "from keras.layers import Dense, BatchNormalization, Dropout, LSTM\n",
        "from keras.models import Sequential\n",
        "from keras import callbacks\n",
        "from sklearn.metrics import precision_score, recall_score, confusion_matrix, classification_report, accuracy_score, f1_score"
      ]
    },
    {
      "cell_type": "code",
      "execution_count": null,
      "id": "d687b498-dc25-4657-97dc-4daa83ad7465",
      "metadata": {
        "tags": [],
        "id": "d687b498-dc25-4657-97dc-4daa83ad7465"
      },
      "outputs": [],
      "source": [
        "data_df = pd.read_csv(\"heart_failure_clinical_records_dataset.csv\")"
      ]
    },
    {
      "cell_type": "code",
      "execution_count": null,
      "id": "3d89e40e-4def-4049-b51b-bc03f87faa71",
      "metadata": {
        "tags": [],
        "id": "3d89e40e-4def-4049-b51b-bc03f87faa71",
        "outputId": "f41f264a-9ba4-4dc0-b542-6362f5acda45"
      },
      "outputs": [
        {
          "data": {
            "text/plain": [
              "0.7888888888888889"
            ]
          },
          "execution_count": 4,
          "metadata": {},
          "output_type": "execute_result"
        }
      ],
      "source": [
        "X=data_df.drop([\"DEATH_EVENT\"],axis=1)\n",
        "y=data_df[\"DEATH_EVENT\"]\n",
        "# Setting up a standard scaler for the features and analyzing it thereafter\n",
        "col_names = list(X.columns)\n",
        "s_scaler = preprocessing.StandardScaler()\n",
        "X_scaled= s_scaler.fit_transform(X)\n",
        "X_scaled = pd.DataFrame(X_scaled, columns=col_names)\n",
        "X_scaled.describe().T\n",
        "#spliting variables into training and test sets\n",
        "X_train, X_test, y_train,y_test = train_test_split(X_scaled,y,test_size=0.30,random_state=25)\n",
        "# Instantiating the SVM algorithm\n",
        "model1=svm.SVC()\n",
        "\n",
        "# Fitting the model\n",
        "model1.fit (X_train, y_train)\n",
        "\n",
        "# Predicting the test variables\n",
        "y_pred = model1.predict(X_test)\n",
        "\n",
        "# Getting the score\n",
        "model1.score (X_test, y_test)"
      ]
    },
    {
      "cell_type": "code",
      "execution_count": null,
      "id": "a716f1f5-e32e-4d4c-835a-bad755552f91",
      "metadata": {
        "id": "a716f1f5-e32e-4d4c-835a-bad755552f91"
      },
      "outputs": [],
      "source": []
    }
  ],
  "metadata": {
    "kernelspec": {
      "display_name": "Python 3 (ipykernel)",
      "language": "python",
      "name": "python3"
    },
    "language_info": {
      "codemirror_mode": {
        "name": "ipython",
        "version": 3
      },
      "file_extension": ".py",
      "mimetype": "text/x-python",
      "name": "python",
      "nbconvert_exporter": "python",
      "pygments_lexer": "ipython3",
      "version": "3.11.5"
    },
    "colab": {
      "provenance": []
    }
  },
  "nbformat": 4,
  "nbformat_minor": 5
}